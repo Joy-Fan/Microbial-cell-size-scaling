{
 "cells": [
  {
   "cell_type": "code",
   "execution_count": 17,
   "id": "aa4ea11f",
   "metadata": {},
   "outputs": [
    {
     "name": "stdout",
     "output_type": "stream",
     "text": [
      "\n",
      "  There is a binary version available but the source version is later:\n",
      "          binary source needs_compilation\n",
      "segmented  1.3-4  1.5-0             FALSE\n",
      "\n"
     ]
    },
    {
     "name": "stderr",
     "output_type": "stream",
     "text": [
      "installing the source package 'segmented'\n",
      "\n"
     ]
    },
    {
     "data": {
      "text/plain": [
       "\n",
       "\t***Regression Model with Segmented Relationship(s)***\n",
       "\n",
       "Call: \n",
       "segmented.lm(obj = boltzmann_linear, seg.Z = ~x1)\n",
       "\n",
       "Estimated Break-Point(s):\n",
       "           Est. St.Err\n",
       "psi1.x1 37.045  0.681\n",
       "\n",
       "Meaningful coefficients of the linear terms:\n",
       "            Estimate Std. Error t value Pr(>|t|)    \n",
       "(Intercept) -25.8069     5.1351  -5.026 8.02e-07 ***\n",
       "x1            0.4166     0.1468   2.838   0.0048 ** \n",
       "U1.x1        -0.5724     0.1844  -3.104       NA    \n",
       "---\n",
       "Signif. codes:  0 '***' 0.001 '**' 0.01 '*' 0.05 '.' 0.1 ' ' 1\n",
       "\n",
       "Residual standard error: 1.747 on 350 degrees of freedom\n",
       "Multiple R-Squared: 0.05927,  Adjusted R-squared: 0.05121 \n",
       "\n",
       "Boot restarting based on 6 samples. Last fit:\n",
       "Convergence attained in 2 iterations (rel. change 6.6394e-09)"
      ]
     },
     "metadata": {},
     "output_type": "display_data"
    },
    {
     "data": {
      "text/html": [
       "37.0453459806607"
      ],
      "text/latex": [
       "37.0453459806607"
      ],
      "text/markdown": [
       "37.0453459806607"
      ],
      "text/plain": [
       "[1] 37.04535"
      ]
     },
     "metadata": {},
     "output_type": "display_data"
    },
    {
     "data": {
      "text/html": [
       "40.0048043930305"
      ],
      "text/latex": [
       "40.0048043930305"
      ],
      "text/markdown": [
       "40.0048043930305"
      ],
      "text/plain": [
       "[1] 40.0048"
      ]
     },
     "metadata": {},
     "output_type": "display_data"
    },
    {
     "data": {
      "image/png": "[encoded data removed]",
      "text/plain": [
       "plot without title"
      ]
     },
     "metadata": {},
     "output_type": "display_data"
    }
   ],
   "source": [
    "# Clear the data\n",
    "rm(list=ls())\n",
    "\n",
    "#Import the merged data\n",
    "Data <- read.csv(\"C:/Users/FAN/Desktop/Data/Merged_data.csv\", as.is=TRUE)\n",
    "\n",
    "#unit from Celsius to K\n",
    "Data$OptimumTemp<-Data$Optimum.Temp+273.15\n",
    "Data$TempUnit[Data$TempUnit%in%c(\"Celsius\")]<-\"K\"\n",
    "\n",
    "#Divide into Bacteria, Archaea and Phytoplankton\n",
    "bacteria_d <- Data[Data$Superkingdom == \"Bacteria\",]\n",
    "archaea_d<-Data[Data$Superkingdom == \"Archaea\",]\n",
    "phyto_d<-Data[Data$Superkingdom == \"Phytoplankton\",]\n",
    "\n",
    "# Using \"segmented\" R package to find analysis break-points in the data\n",
    "install.packages(\"segmented\")\n",
    "library(segmented)\n",
    "\n",
    "#Boltzmann constant \n",
    "k <- 8.62e-5 \n",
    "x1 = 1 / (k*(bacteria_d$OptimumTemp))\n",
    "y1 = log(bacteria_d$GrowthRate)\n",
    "boltzmann_linear <- lm(y1 ~ x1)\n",
    "os1 <- segmented(boltzmann_linear, seg.Z =~ x1) \n",
    "plot(x1,y1)\n",
    "plot(os1, add=T)\n",
    "summary.segmented(os1)\n",
    "os1$psi[2]\n",
    "bacteria_breakpoint_celsius <- (1/(k*os1$psi[2]))-273.15\n",
    "bacteria_breakpoint_celsius\n"
   ]
  },
  {
   "cell_type": "code",
   "execution_count": 11,
   "id": "521b8355",
   "metadata": {},
   "outputs": [
    {
     "data": {
      "text/plain": [
       "\n",
       "\t***Regression Model with Segmented Relationship(s)***\n",
       "\n",
       "Call: \n",
       "segmented.lm(obj = boltzmann_linear, seg.Z = ~x2)\n",
       "\n",
       "Estimated Break-Point(s):\n",
       "           Est. St.Err\n",
       "psi1.x2 32.327  0.422\n",
       "\n",
       "Meaningful coefficients of the linear terms:\n",
       "            Estimate Std. Error t value Pr(>|t|)  \n",
       "(Intercept)   59.369     37.037   1.603   0.1110  \n",
       "x2            -2.209      1.165  -1.896   0.0599 .\n",
       "U1.x2          2.231      1.168   1.911       NA  \n",
       "---\n",
       "Signif. codes:  0 '***' 0.001 '**' 0.01 '*' 0.05 '.' 0.1 ' ' 1\n",
       "\n",
       "Residual standard error: 1.718 on 151 degrees of freedom\n",
       "Multiple R-Squared: 0.04395,  Adjusted R-squared: 0.02495 \n",
       "\n",
       "Boot restarting based on 6 samples. Last fit:\n",
       "Convergence attained in 3 iterations (rel. change 0)"
      ]
     },
     "metadata": {},
     "output_type": "display_data"
    },
    {
     "data": {
      "text/html": [
       "32.3268046097977"
      ],
      "text/latex": [
       "32.3268046097977"
      ],
      "text/markdown": [
       "32.3268046097977"
      ],
      "text/plain": [
       "[1] 32.3268"
      ]
     },
     "metadata": {},
     "output_type": "display_data"
    },
    {
     "data": {
      "text/html": [
       "85.7140514976813"
      ],
      "text/latex": [
       "85.7140514976813"
      ],
      "text/markdown": [
       "85.7140514976813"
      ],
      "text/plain": [
       "[1] 85.71405"
      ]
     },
     "metadata": {},
     "output_type": "display_data"
    },
    {
     "data": {
      "image/png": "[encoded data removed]",
      "text/plain": [
       "plot without title"
      ]
     },
     "metadata": {},
     "output_type": "display_data"
    }
   ],
   "source": [
    "# repeat for archaea\n",
    "x2 = 1 / (k*(archaea_d$OptimumTemp))\n",
    "y2 = log(archaea_d$GrowthRate)\n",
    "\n",
    "boltzmann_linear <- lm(y2 ~ x2)\n",
    "\n",
    "os2 <- segmented(boltzmann_linear, seg.Z =~ x2)\n",
    "plot.segmented(os2)\n",
    "summary.segmented(os2)\n",
    "\n",
    "os2$psi[2] # <-- this is the break point\n",
    "\n",
    "archaea_breakpoint_celsius <- (1/(k*os2$psi[2]))-273.15\n",
    "archaea_breakpoint_celsius"
   ]
  },
  {
   "cell_type": "code",
   "execution_count": 12,
   "id": "b5678efd",
   "metadata": {},
   "outputs": [
    {
     "data": {
      "text/plain": [
       "\n",
       "\t***Regression Model with Segmented Relationship(s)***\n",
       "\n",
       "Call: \n",
       "segmented.lm(obj = boltzmann_linear, seg.Z = ~x3)\n",
       "\n",
       "Estimated Break-Point(s):\n",
       "           Est. St.Err\n",
       "psi1.x3 41.723  0.036\n",
       "\n",
       "Meaningful coefficients of the linear terms:\n",
       "            Estimate Std. Error t value Pr(>|t|)    \n",
       "(Intercept)   8.1889     5.7649   1.420 0.158173    \n",
       "x3           -0.5111     0.1471  -3.474 0.000724 ***\n",
       "U1.x3        29.3221     3.3182   8.837       NA    \n",
       "---\n",
       "Signif. codes:  0 '***' 0.001 '**' 0.01 '*' 0.05 '.' 0.1 ' ' 1\n",
       "\n",
       "Residual standard error: 1.37 on 115 degrees of freedom\n",
       "Multiple R-Squared: 0.6105,  Adjusted R-squared: 0.6003 \n",
       "\n",
       "Boot restarting based on 6 samples. Last fit:\n",
       "Convergence attained in 7 iterations (rel. change 0)"
      ]
     },
     "metadata": {},
     "output_type": "display_data"
    },
    {
     "data": {
      "text/html": [
       "41.7225017733134"
      ],
      "text/latex": [
       "41.7225017733134"
      ],
      "text/markdown": [
       "41.7225017733134"
      ],
      "text/plain": [
       "[1] 41.7225"
      ]
     },
     "metadata": {},
     "output_type": "display_data"
    },
    {
     "data": {
      "text/html": [
       "4.89967538322816"
      ],
      "text/latex": [
       "4.89967538322816"
      ],
      "text/markdown": [
       "4.89967538322816"
      ],
      "text/plain": [
       "[1] 4.899675"
      ]
     },
     "metadata": {},
     "output_type": "display_data"
    },
    {
     "data": {
      "image/png": "[encoded data removed]",
      "text/plain": [
       "plot without title"
      ]
     },
     "metadata": {},
     "output_type": "display_data"
    }
   ],
   "source": [
    "#repeat for phytoplankton\n",
    "x3 = 1 / (k*(phyto_d$OptimumTemp))\n",
    "y3 = log(phyto_d$GrowthRate)\n",
    "\n",
    "boltzmann_linear <- lm(y3 ~ x3)\n",
    "\n",
    "os3 <- segmented(boltzmann_linear, seg.Z =~ x3)\n",
    "plot.segmented(os3)\n",
    "summary.segmented(os3)\n",
    "\n",
    "os3$psi[2] # <-- this is the break point\n",
    "\n",
    "archaea_breakpoint_celsius <- (1/(k*os3$psi[2]))-273.15\n",
    "archaea_breakpoint_celsius"
   ]
  },
  {
   "cell_type": "code",
   "execution_count": 16,
   "id": "732bc911",
   "metadata": {},
   "outputs": [
    {
     "data": {
      "image/png": "[encoded data removed]",
      "text/plain": [
       "plot without title"
      ]
     },
     "metadata": {},
     "output_type": "display_data"
    }
   ],
   "source": [
    "#classify prokaryotes into Thermo and Meso\n",
    "Data$TempPref <- NA\n",
    "for (i in 1:length(Data$OptimumTemp)){\n",
    "  if (!is.na(Data$OptimumTemp[i])){\n",
    "    if (Data$Superkingdom[i] == \"Bacteria\"){\n",
    "      if (Data$OptimumTemp[i] > 313.15){ #40C\n",
    "        Data$TempPref[i] <- \"Thermophile\"\n",
    "      }\n",
    "      else{\n",
    "        Data$TempPref[i] <- \"Mesophile\"\n",
    "      }\n",
    "    }\n",
    "    else if (Data$Superkingdom[i] == \"Archaea\"){\n",
    "      if (Data$OptimumTemp[i] >358.86){ #85.71c\n",
    "        Data$TempPref[i] <- \"Thermophile\"\n",
    "      }\n",
    "      else{\n",
    "        Data$TempPref[i] <- \"Mesophile\"\n",
    "      }\n",
    "    }\n",
    "    else{\n",
    "      Data$TempPref[i] <- \"NA\"\n",
    "    }\n",
    "  }\n",
    "  if (Data$Superkingdom[i] == \"Phytoplankton\"){\n",
    "    if (Data$OptimumTemp[i] > 278.05){ #4.9C\n",
    "      Data$TempPref[i] <- \"Thermophile\"\n",
    "    }\n",
    "    else{\n",
    "      Data$TempPref[i] <- \"Mesophile\"}\n",
    "    }\n",
    "  }\n",
    "\n",
    "bacteria_d <- Data[Data$Superkingdom == \"Bacteria\",]\n",
    "archaea_d<-Data[Data$Superkingdom == \"Archaea\",]\n",
    "phyto_d<-Data[Data$Superkingdom == \"Phytoplankton\",]\n",
    "\n",
    "a<-ggplot(bacteria_d, aes(x =1/(k*OptimumTemp), y = log(GrowthRate), col = TempPref)) +\n",
    "  geom_point()+\n",
    "  theme_classic()+\n",
    "  theme(legend.position = \"none\")\n",
    "a\n"
   ]
  },
  {
   "cell_type": "code",
   "execution_count": 14,
   "id": "0094f08e",
   "metadata": {},
   "outputs": [
    {
     "data": {
      "image/png": "[encoded data removed]",
      "text/plain": [
       "plot without title"
      ]
     },
     "metadata": {},
     "output_type": "display_data"
    }
   ],
   "source": [
    "b<-ggplot(archaea_d, aes(x =1/(k*OptimumTemp), y = log(GrowthRate), col = TempPref)) +\n",
    "  geom_point()+\n",
    "  theme_classic()+\n",
    "  theme(legend.position = \"none\")\n",
    "b\n"
   ]
  },
  {
   "cell_type": "code",
   "execution_count": 15,
   "id": "2d2338f8",
   "metadata": {},
   "outputs": [
    {
     "data": {
      "image/png": "[encoded data removed]",
      "text/plain": [
       "plot without title"
      ]
     },
     "metadata": {},
     "output_type": "display_data"
    }
   ],
   "source": [
    "c<-ggplot(phyto_d, aes(x =1/(k*OptimumTemp), y = log(GrowthRate), col = TempPref)) +\n",
    "  geom_point()+\n",
    " theme_classic()+\n",
    "  theme(legend.position = \"none\")\n",
    "c"
   ]
  },
  {
   "cell_type": "code",
   "execution_count": null,
   "id": "57ba9433",
   "metadata": {},
   "outputs": [],
   "source": []
  }
 ],
 "metadata": {
  "kernelspec": {
   "display_name": "R",
   "language": "R",
   "name": "ir"
  },
  "language_info": {
   "codemirror_mode": "r",
   "file_extension": ".r",
   "mimetype": "text/x-r-source",
   "name": "R",
   "pygments_lexer": "r",
   "version": "3.6.1"
  }
 },
 "nbformat": 4,
 "nbformat_minor": 5
}
