{
 "cells": [
  {
   "cell_type": "code",
   "execution_count": 7,
   "id": "93513e83",
   "metadata": {},
   "outputs": [
    {
     "ename": "ERROR",
     "evalue": "Error: package or namespace load failed for 'broom' in loadNamespace(i, c(lib.loc, .libPaths()), versionCheck = vI[[i]]):\n namespace 'rlang' 0.3.4 is being loaded, but >= 0.4.10 is required\n",
     "output_type": "error",
     "traceback": [
      "Error: package or namespace load failed for 'broom' in loadNamespace(i, c(lib.loc, .libPaths()), versionCheck = vI[[i]]):\n namespace 'rlang' 0.3.4 is being loaded, but >= 0.4.10 is required\nTraceback:\n",
      "1. library(broom)",
      "2. tryCatch({\n .     attr(package, \"LibPath\") <- which.lib.loc\n .     ns <- loadNamespace(package, lib.loc)\n .     env <- attachNamespace(ns, pos = pos, deps, exclude, include.only)\n . }, error = function(e) {\n .     P <- if (!is.null(cc <- conditionCall(e))) \n .         paste(\" in\", deparse(cc)[1L])\n .     else \"\"\n .     msg <- gettextf(\"package or namespace load failed for %s%s:\\n %s\", \n .         sQuote(package), P, conditionMessage(e))\n .     if (logical.return) \n .         message(paste(\"Error:\", msg), domain = NA)\n .     else stop(msg, call. = FALSE, domain = NA)\n . })",
      "3. tryCatchList(expr, classes, parentenv, handlers)",
      "4. tryCatchOne(expr, names, parentenv, handlers[[1L]])",
      "5. value[[3L]](cond)",
      "6. stop(msg, call. = FALSE, domain = NA)"
     ]
    }
   ],
   "source": [
    "# Clear the data\n",
    "rm(list=ls())\n",
    "\n",
    "#Import the Data\n",
    "Data <- read.csv(\"C:/Users/FAN/Desktop/Data/Tables/Data_new.csv\", as.is=TRUE)\n",
    "\n",
    "#Arrhenius\n",
    "k <- 8.62e-5 \n",
    "Data$arrhenius_tmp<-1/(k*Data$Temp)\n",
    "\n",
    "Data$x<-log(Data$GrowthRate)\n",
    "Data$y<-log(Data$AverageVolume)\n",
    "Data$z<-Data$arrhenius_tmp\n",
    "\n",
    "B<-subset(Data,Superkingdom==\"Bacteria\")\n",
    "P<-subset(Data,Superkingdom==\"Phytoplankton\")\n",
    "A<-subset(Data,Superkingdom==\"Archaea\")\n",
    "  \n",
    "#Get the value\n",
    "library(broom)\n",
    "fit<-lm(log(B$GrowthRate)~log(B$AverageVolume)+B$arrhenius_tmp,data=B)\n",
    "Coef_B<-tidy(summary(fit))\n",
    "Coef_B"
   ]
  },
  {
   "cell_type": "code",
   "execution_count": 5,
   "id": "0f6682ab",
   "metadata": {},
   "outputs": [
    {
     "ename": "ERROR",
     "evalue": "Error in tidy(summary(fit)): 没有\"tidy\"这个函数\n",
     "output_type": "error",
     "traceback": [
      "Error in tidy(summary(fit)): 没有\"tidy\"这个函数\nTraceback:\n"
     ]
    }
   ],
   "source": [
    "fit<-lm(log(A$GrowthRate)~log(A$AverageVolume)+A$arrhenius_tmp,data=A)\n",
    "Coef_A<-tidy(summary(fit))"
   ]
  },
  {
   "cell_type": "code",
   "execution_count": null,
   "id": "8e9afd49",
   "metadata": {},
   "outputs": [],
   "source": [
    "fit<-lm(log(P$GrowthRate)~log(P$AverageVolume)+P$arrhenius_tmp,data=P)\n",
    "Coef_P<-tidy(summary(fit))"
   ]
  }
 ],
 "metadata": {
  "kernelspec": {
   "display_name": "R",
   "language": "R",
   "name": "ir"
  },
  "language_info": {
   "codemirror_mode": "r",
   "file_extension": ".r",
   "mimetype": "text/x-r-source",
   "name": "R",
   "pygments_lexer": "r",
   "version": "3.6.1"
  }
 },
 "nbformat": 4,
 "nbformat_minor": 5
}
